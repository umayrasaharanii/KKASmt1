{
  "nbformat": 4,
  "nbformat_minor": 0,
  "metadata": {
    "colab": {
      "provenance": [],
      "authorship_tag": "ABX9TyOxBbNdjdQftCI9Fr7xmgKj",
      "include_colab_link": true
    },
    "kernelspec": {
      "name": "python3",
      "display_name": "Python 3"
    },
    "language_info": {
      "name": "python"
    }
  },
  "cells": [
    {
      "cell_type": "markdown",
      "metadata": {
        "id": "view-in-github",
        "colab_type": "text"
      },
      "source": [
        "<a href=\"https://colab.research.google.com/github/umayrasaharanii/KKASmt1/blob/main/untitled.ipynb\" target=\"_parent\"><img src=\"https://colab.research.google.com/assets/colab-badge.svg\" alt=\"Open In Colab\"/></a>"
      ]
    },
    {
      "cell_type": "markdown",
      "source": [
        "Nama: Umayra Saharani Zulino\n",
        "\n",
        "Kelas: IX.1\n",
        "\n",
        "No. absen: 34\n",
        "\n",
        "Nama kelompok: Taylor Swift"
      ],
      "metadata": {
        "id": "j5RNfmAmmQXp"
      }
    },
    {
      "cell_type": "markdown",
      "source": [
        "#Aplikasi Sederhana Menghitung Volume"
      ],
      "metadata": {
        "id": "OL3W9NFhmZ2f"
      }
    },
    {
      "cell_type": "code",
      "execution_count": null,
      "metadata": {
        "id": "5Okpwh5okxJS",
        "colab": {
          "base_uri": "https://localhost:8080/"
        },
        "outputId": "2048165b-083c-456f-b8c1-2ac155e8bda5"
      },
      "outputs": [
        {
          "output_type": "stream",
          "name": "stdout",
          "text": [
            "Masukkan jari-jari bola (dalam satuan cm): 5\n",
            "Volume bola dengan jari-jari 5.0 cm adalah 523.33 cm³\n"
          ]
        }
      ],
      "source": [
        "r = float(input(\"Masukkan jari-jari bola (dalam satuan cm): \"))\n",
        "pi = 3.14\n",
        "volume = (4/3) * pi * r**3\n",
        "\n",
        "print(f\"Volume bola dengan jari-jari {r} cm adalah {volume:.2f} cm³\")"
      ]
    },
    {
      "cell_type": "markdown",
      "source": [
        "#"
      ],
      "metadata": {
        "id": "zT-6Yj6Nmkbe"
      }
    }
  ]
}