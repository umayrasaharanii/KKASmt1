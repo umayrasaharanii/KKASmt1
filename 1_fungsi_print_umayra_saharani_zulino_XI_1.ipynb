{
  "nbformat": 4,
  "nbformat_minor": 0,
  "metadata": {
    "colab": {
      "provenance": [],
      "include_colab_link": true
    },
    "kernelspec": {
      "name": "python3",
      "display_name": "Python 3"
    },
    "language_info": {
      "name": "python"
    }
  },
  "cells": [
    {
      "cell_type": "markdown",
      "metadata": {
        "id": "view-in-github",
        "colab_type": "text"
      },
      "source": [
        "<a href=\"https://colab.research.google.com/github/umayrasaharanii/KKASmt1/blob/main/1_fungsi_print_umayra_saharani_zulino_XI_1.ipynb\" target=\"_parent\"><img src=\"https://colab.research.google.com/assets/colab-badge.svg\" alt=\"Open In Colab\"/></a>"
      ]
    },
    {
      "cell_type": "markdown",
      "source": [
        "# Menampilkan Teks Bebas"
      ],
      "metadata": {
        "id": "gr4kd9_dGUAB"
      }
    },
    {
      "cell_type": "code",
      "execution_count": null,
      "metadata": {
        "colab": {
          "base_uri": "https://localhost:8080/"
        },
        "id": "EP87bVKxEfTe",
        "outputId": "cfb663be-b350-4779-f50c-7990b13dcd45"
      },
      "outputs": [
        {
          "output_type": "stream",
          "name": "stdout",
          "text": [
            "Halo dunia\n"
          ]
        }
      ],
      "source": [
        "print(\"Halo dunia\")"
      ]
    },
    {
      "cell_type": "code",
      "source": [
        "print(\"selamat datang di python\")"
      ],
      "metadata": {
        "colab": {
          "base_uri": "https://localhost:8080/"
        },
        "id": "x7Xw6E5EFpxJ",
        "outputId": "6f8e28ce-8f17-4af6-89be-f9dc279284bf"
      },
      "execution_count": null,
      "outputs": [
        {
          "output_type": "stream",
          "name": "stdout",
          "text": [
            "selamat datang di python\n"
          ]
        }
      ]
    },
    {
      "cell_type": "code",
      "source": [
        "print('umayra Saharani')"
      ],
      "metadata": {
        "colab": {
          "base_uri": "https://localhost:8080/"
        },
        "id": "USXv5HxCF8tn",
        "outputId": "b893653f-a5c0-4d3e-89e3-5f010cff581a"
      },
      "execution_count": null,
      "outputs": [
        {
          "output_type": "stream",
          "name": "stdout",
          "text": [
            "umayra Saharani\n"
          ]
        }
      ]
    },
    {
      "cell_type": "markdown",
      "source": [
        "# Variabel"
      ],
      "metadata": {
        "id": "R0GvZakNHaJy"
      }
    },
    {
      "cell_type": "code",
      "source": [
        "BB = 52\n",
        "print (BB)"
      ],
      "metadata": {
        "colab": {
          "base_uri": "https://localhost:8080/"
        },
        "id": "EWcPOVSVHo97",
        "outputId": "8e298868-8634-4fa6-cf40-169e0807bf69"
      },
      "execution_count": null,
      "outputs": [
        {
          "output_type": "stream",
          "name": "stdout",
          "text": [
            "52\n"
          ]
        }
      ]
    },
    {
      "cell_type": "code",
      "source": [
        "umur = 15\n",
        "print (umur)"
      ],
      "metadata": {
        "colab": {
          "base_uri": "https://localhost:8080/"
        },
        "id": "IQH_Pa8UIV1-",
        "outputId": "61a37548-6164-4fe1-ab13-fa7cfa763c21"
      },
      "execution_count": null,
      "outputs": [
        {
          "output_type": "stream",
          "name": "stdout",
          "text": [
            "15\n"
          ]
        }
      ]
    },
    {
      "cell_type": "code",
      "source": [
        "nama = \"umayra saharani zulino\""
      ],
      "metadata": {
        "id": "Fb7w3jI-J9Q4"
      },
      "execution_count": null,
      "outputs": []
    },
    {
      "cell_type": "markdown",
      "source": [
        "# Menampilkan teks bebas dan variabel"
      ],
      "metadata": {
        "id": "JeXycILsI3tn"
      }
    },
    {
      "cell_type": "code",
      "source": [
        "umur = 15\n",
        "print (f\"umur saya 15 tahun\")"
      ],
      "metadata": {
        "colab": {
          "base_uri": "https://localhost:8080/"
        },
        "id": "IhoehaU9JFj2",
        "outputId": "2edadd87-46c7-4162-9d1e-ba158577eb28"
      },
      "execution_count": null,
      "outputs": [
        {
          "output_type": "stream",
          "name": "stdout",
          "text": [
            "umur saya 15 tahun\n"
          ]
        }
      ]
    },
    {
      "cell_type": "code",
      "source": [
        "nama = \"umayra saharani zulino\"\n",
        "print (\"halo \" + nama)"
      ],
      "metadata": {
        "colab": {
          "base_uri": "https://localhost:8080/"
        },
        "id": "6VwvgDnTJaEx",
        "outputId": "2246840b-e033-4b35-9a8d-142944594c7c"
      },
      "execution_count": null,
      "outputs": [
        {
          "output_type": "stream",
          "name": "stdout",
          "text": [
            "halo umayra saharani zulino\n"
          ]
        }
      ]
    },
    {
      "cell_type": "code",
      "source": [
        "umur = 15\n",
        "print (\"umur saya\", umur, \"tahun\")"
      ],
      "metadata": {
        "colab": {
          "base_uri": "https://localhost:8080/"
        },
        "id": "YVTeKUVXLRgs",
        "outputId": "1acd76d0-6096-432b-dc7a-704aafa83c21"
      },
      "execution_count": null,
      "outputs": [
        {
          "output_type": "stream",
          "name": "stdout",
          "text": [
            "umur saya 15 tahun\n"
          ]
        }
      ]
    },
    {
      "cell_type": "code",
      "source": [
        "harga_telur = 26000\n",
        "print(\"harga telur per 1 kg adalah\",harga_telur)"
      ],
      "metadata": {
        "colab": {
          "base_uri": "https://localhost:8080/"
        },
        "id": "dFjSuW1ZEecS",
        "outputId": "c01bd3e8-4ac2-4f28-d7a7-04e034c231e9"
      },
      "execution_count": null,
      "outputs": [
        {
          "output_type": "stream",
          "name": "stdout",
          "text": [
            "harga telur per 1 kg adalah 26000\n"
          ]
        }
      ]
    },
    {
      "cell_type": "code",
      "source": [
        "harga_telur = 26000\n",
        "print(\"harga telur per 1 kg adalah \" + str(harga_telur))"
      ],
      "metadata": {
        "colab": {
          "base_uri": "https://localhost:8080/"
        },
        "id": "HAd7rIVyE7VQ",
        "outputId": "2f411bf9-68d8-4791-aac6-993cbf9a99e0"
      },
      "execution_count": null,
      "outputs": [
        {
          "output_type": "stream",
          "name": "stdout",
          "text": [
            "harga telur per 1 kg adalah 26000\n"
          ]
        }
      ]
    },
    {
      "cell_type": "code",
      "source": [
        "nama_pembeli = \"Umayra\"\n",
        "print(\"nama pembeli telur adalah \" + nama_pembeli)"
      ],
      "metadata": {
        "colab": {
          "base_uri": "https://localhost:8080/"
        },
        "id": "18gU2PFHFdni",
        "outputId": "1bcafe0f-93c7-4df7-c80d-6a3101b3975d"
      },
      "execution_count": null,
      "outputs": [
        {
          "output_type": "stream",
          "name": "stdout",
          "text": [
            "nama pembeli telur adalah Umayra\n"
          ]
        }
      ]
    },
    {
      "cell_type": "markdown",
      "source": [
        "# Menampilkan hasil perhitungan"
      ],
      "metadata": {
        "id": "Z7Aqg3SALmTN"
      }
    },
    {
      "cell_type": "code",
      "source": [
        "pembagian = 10/2\n",
        "print (pembagian)"
      ],
      "metadata": {
        "colab": {
          "base_uri": "https://localhost:8080/"
        },
        "id": "wPAxdjNhLtOx",
        "outputId": "360156da-f1a6-4131-9c7d-8392ff626074"
      },
      "execution_count": null,
      "outputs": [
        {
          "output_type": "stream",
          "name": "stdout",
          "text": [
            "5.0\n"
          ]
        }
      ]
    },
    {
      "cell_type": "code",
      "source": [
        "print (5 + 3)\n",
        "print (\"Hasilnya adalah\", 5 * 4)"
      ],
      "metadata": {
        "colab": {
          "base_uri": "https://localhost:8080/"
        },
        "id": "Bp_wZyg2L3bQ",
        "outputId": "be7b79d6-08d7-4968-f370-b15e8403bb21"
      },
      "execution_count": null,
      "outputs": [
        {
          "output_type": "stream",
          "name": "stdout",
          "text": [
            "8\n",
            "Hasilnya adalah 20\n"
          ]
        }
      ]
    },
    {
      "cell_type": "markdown",
      "source": [
        "Latihan soal\n",
        "1. tampilkan teks bebas: hari ini saya bahagia belajar bahasa python\n",
        "2. tampilkan nilai variabel: mata_pelajaran_favorit = kode dan kecerdasan buatan\n",
        "3. tampilkan nilai variabel: nilai_kka = 100\n",
        "4. tampilkan teks bebas dan nilai variabel dengan tiga metode (f string,\"+\",\",\"): \"nilai KKA saya adalah {nilai_kka}loh!\""
      ],
      "metadata": {
        "id": "8Y1nMUkBGrmw"
      }
    },
    {
      "cell_type": "markdown",
      "source": [
        "#jawaban latihan soal#"
      ],
      "metadata": {
        "id": "6O33Xn930kIM"
      }
    },
    {
      "cell_type": "code",
      "source": [
        "print (\"1. hari ini saya bahagia belajar bahasa python\")"
      ],
      "metadata": {
        "colab": {
          "base_uri": "https://localhost:8080/"
        },
        "id": "KcfiQN-_0vCc",
        "outputId": "52aaaf2c-74b7-46f0-ce3a-dd371571d9bd"
      },
      "execution_count": null,
      "outputs": [
        {
          "output_type": "stream",
          "name": "stdout",
          "text": [
            "1. hari ini saya bahagia belajar bahasa python\n"
          ]
        }
      ]
    },
    {
      "cell_type": "code",
      "source": [
        "mata_pelajaran_favorit = \"2. kode dan kecerdasan\"\n",
        "print (mata_pelajaran_favorit)"
      ],
      "metadata": {
        "id": "rC4x-3Kq1I2A",
        "colab": {
          "base_uri": "https://localhost:8080/"
        },
        "outputId": "d78c6ba3-e7ff-4df5-ec70-790c253d8be8"
      },
      "execution_count": null,
      "outputs": [
        {
          "output_type": "stream",
          "name": "stdout",
          "text": [
            "2. kode dan kecerdasan\n"
          ]
        }
      ]
    },
    {
      "cell_type": "code",
      "source": [
        "nilai_kka = \"3. 100\"\n",
        "print (nilai_kka)"
      ],
      "metadata": {
        "colab": {
          "base_uri": "https://localhost:8080/"
        },
        "id": "y_mabM2hJxmL",
        "outputId": "2a96c704-c425-4237-f06c-02fb36a6627b"
      },
      "execution_count": null,
      "outputs": [
        {
          "output_type": "stream",
          "name": "stdout",
          "text": [
            "3. 100\n"
          ]
        }
      ]
    },
    {
      "cell_type": "code",
      "source": [
        "nilai_kka = 98\n",
        "print(f\"Nilai kka saya adalah {nilai_kka} loh!\")\n",
        "print(\"Nilai kka saya adalah \" + str(nilai_kka) + \"loh!\")\n",
        "print(\"Nilai kka saya adalah\", nilai_kka,\"loh!\")"
      ],
      "metadata": {
        "id": "hfnHPcprSQiD",
        "colab": {
          "base_uri": "https://localhost:8080/"
        },
        "outputId": "9f7be587-e2c0-4df0-d4c6-2f5ee4b0f428"
      },
      "execution_count": null,
      "outputs": [
        {
          "output_type": "stream",
          "name": "stdout",
          "text": [
            "Nilai kka saya adalah 98 loh!\n",
            "Nilai kka saya adalah 98loh!\n",
            "Nilai kka saya adalah 98 loh!\n"
          ]
        }
      ]
    },
    {
      "cell_type": "markdown",
      "source": [
        "#Escape character#"
      ],
      "metadata": {
        "id": "NQAl0XNHJXVz"
      }
    },
    {
      "cell_type": "code",
      "source": [
        "print(\"nama: umayra saharani zulino\")\n",
        "print(\"kelas: XI, 1\")\n",
        "print(\"nomor absen: 34\")"
      ],
      "metadata": {
        "colab": {
          "base_uri": "https://localhost:8080/"
        },
        "id": "LVGKIhhBJenw",
        "outputId": "6a4bcc71-e8d7-440a-c161-58d5999645a1"
      },
      "execution_count": null,
      "outputs": [
        {
          "output_type": "stream",
          "name": "stdout",
          "text": [
            "nama: umayra saharani zulino\n",
            "kelas: XI, 1\n",
            "nomor absen: 34\n"
          ]
        }
      ]
    },
    {
      "cell_type": "code",
      "source": [
        "print(\"nama: umayra Saharani Zulino\\nkelas: XI,1\\nNomor absen: 34\")"
      ],
      "metadata": {
        "colab": {
          "base_uri": "https://localhost:8080/"
        },
        "id": "d1m90cRYKb8B",
        "outputId": "70d17ed8-d55e-48f8-be43-73109dd4aa25"
      },
      "execution_count": null,
      "outputs": [
        {
          "output_type": "stream",
          "name": "stdout",
          "text": [
            "nama: umayra Saharani Zulino\n",
            "kelas: XI,1\n",
            "Nomor absen: 34\n"
          ]
        }
      ]
    },
    {
      "cell_type": "code",
      "source": [
        "print(\"\"\"nama: Umayra Saharani Zulino\n",
        "kelas: XI,1\n",
        "nomor absen: 34\"\"\")"
      ],
      "metadata": {
        "colab": {
          "base_uri": "https://localhost:8080/"
        },
        "id": "4IPDI2HBK2is",
        "outputId": "e8b56dd7-f833-4d3e-9647-747180e989ed"
      },
      "execution_count": null,
      "outputs": [
        {
          "output_type": "stream",
          "name": "stdout",
          "text": [
            "nama: Umayra Saharani Zulino \n",
            "kelas: XI,1\n",
            "nomor absen: 34\n"
          ]
        }
      ]
    },
    {
      "cell_type": "code",
      "source": [
        "print ('ja\\'far shodiq')"
      ],
      "metadata": {
        "colab": {
          "base_uri": "https://localhost:8080/"
        },
        "id": "6yHg-PRLCZ0J",
        "outputId": "abdd5dec-5ce7-4e98-d270-68c984d7c89e"
      },
      "execution_count": null,
      "outputs": [
        {
          "output_type": "stream",
          "name": "stdout",
          "text": [
            "ja'far shodiq\n"
          ]
        }
      ]
    },
    {
      "cell_type": "code",
      "source": [
        "print (\"ja'far shodiq\")"
      ],
      "metadata": {
        "colab": {
          "base_uri": "https://localhost:8080/"
        },
        "id": "TBNfzveGCoHc",
        "outputId": "5e016b90-3852-4982-c42f-66bb676e8b82"
      },
      "execution_count": null,
      "outputs": [
        {
          "output_type": "stream",
          "name": "stdout",
          "text": [
            "ja'far shodiq\n"
          ]
        }
      ]
    },
    {
      "cell_type": "code",
      "source": [
        "print (\"bu shinta berkata, \\\"semua harus menyimak pelajaran.\\\"\")"
      ],
      "metadata": {
        "colab": {
          "base_uri": "https://localhost:8080/"
        },
        "id": "En1SNg3XDFDr",
        "outputId": "71c237f2-3c3d-44d6-9863-0aace2c55d66"
      },
      "execution_count": null,
      "outputs": [
        {
          "output_type": "stream",
          "name": "stdout",
          "text": [
            "bu shinta berkata, \"semua harus menyimak pelajaran.\"\n"
          ]
        }
      ]
    },
    {
      "cell_type": "code",
      "source": [
        "print('bu shinta berkata, \"semua harus menyimak pelajaran.\"')"
      ],
      "metadata": {
        "colab": {
          "base_uri": "https://localhost:8080/"
        },
        "id": "ErN8-eztDXHl",
        "outputId": "677f655c-eb40-4c41-9550-62ab9fcf1064"
      },
      "execution_count": null,
      "outputs": [
        {
          "output_type": "stream",
          "name": "stdout",
          "text": [
            "bu shinta berkata, \"semua harus menyimak pelajaran.\"\n"
          ]
        }
      ]
    },
    {
      "cell_type": "code",
      "source": [
        "print (\"lokasi file video karnaval ada di D:\\\\karnaval 2025\\\\mp4\")"
      ],
      "metadata": {
        "colab": {
          "base_uri": "https://localhost:8080/"
        },
        "id": "47MGt2TnDpf-",
        "outputId": "8adc2383-3623-4d96-9756-da6888be74aa"
      },
      "execution_count": null,
      "outputs": [
        {
          "output_type": "stream",
          "name": "stdout",
          "text": [
            "lokasi file video karnaval ada di D:\\karnaval 2025\\mp4\n"
          ]
        }
      ]
    },
    {
      "cell_type": "markdown",
      "source": [
        "#parameter fungsi print"
      ],
      "metadata": {
        "id": "BRR4c8-cG0AR"
      }
    },
    {
      "cell_type": "code",
      "source": [
        "Tahun = 2010\n",
        "Bulan = \"april\"\n",
        "Tanggal = 7\n",
        "\n",
        "print (Tanggal, end=\" \")\n",
        "print (Bulan, end=\" \")\n",
        "print (Tahun)"
      ],
      "metadata": {
        "colab": {
          "base_uri": "https://localhost:8080/"
        },
        "id": "s6-mOwZnG6SO",
        "outputId": "a1561ab5-5c1d-4d03-934b-8122fe71bd85"
      },
      "execution_count": null,
      "outputs": [
        {
          "output_type": "stream",
          "name": "stdout",
          "text": [
            "7 april 2010\n"
          ]
        }
      ]
    },
    {
      "cell_type": "code",
      "source": [
        "Tahun = 2010\n",
        "Bulan = \"april\"\n",
        "Tanggal = 7\n",
        "\n",
        "print(Tanggal, Bulan, Tahun, sep=\"/\")"
      ],
      "metadata": {
        "colab": {
          "base_uri": "https://localhost:8080/"
        },
        "id": "780E6PgrHV9K",
        "outputId": "8eb5b2f4-4479-4f4e-adab-cc89f55684e1"
      },
      "execution_count": null,
      "outputs": [
        {
          "output_type": "stream",
          "name": "stdout",
          "text": [
            "7/april/2010\n"
          ]
        }
      ]
    },
    {
      "cell_type": "markdown",
      "source": [
        "Latihan:\n",
        "\n",
        "Tanggal-Bulan-Tahun"
      ],
      "metadata": {
        "id": "zah0n_NuIG0C"
      }
    },
    {
      "cell_type": "code",
      "source": [
        "Tahun = 2010\n",
        "Bulan = \"april\"\n",
        "Tanggal = 7\n",
        "\n",
        "print(Tanggal, Bulan, Tahun, sep=\"-\")"
      ],
      "metadata": {
        "colab": {
          "base_uri": "https://localhost:8080/"
        },
        "id": "xcuM-hWEIcrR",
        "outputId": "b0375c77-7004-421a-e054-fdec1047f9d0"
      },
      "execution_count": null,
      "outputs": [
        {
          "output_type": "stream",
          "name": "stdout",
          "text": [
            "7-april-2010\n"
          ]
        }
      ]
    },
    {
      "cell_type": "code",
      "source": [
        "Nama_depan = \"umayra\"\n",
        "Nama_belakang = \"zulino\"\n",
        "\n",
        "print (Nama_depan, Nama_belakang)"
      ],
      "metadata": {
        "colab": {
          "base_uri": "https://localhost:8080/"
        },
        "id": "iz8VoFFbI5qk",
        "outputId": "53a60de0-ba50-4c9e-97f6-b9903ba59594"
      },
      "execution_count": null,
      "outputs": [
        {
          "output_type": "stream",
          "name": "stdout",
          "text": [
            "umayra zulino\n"
          ]
        }
      ]
    },
    {
      "cell_type": "code",
      "source": [
        "Nama_depan = \"umayra\"\n",
        "Nama_belakang = \"zulino\"\n",
        "\n",
        "print(Nama_depan, end=\" \")\n",
        "print(Nama_belakang)"
      ],
      "metadata": {
        "colab": {
          "base_uri": "https://localhost:8080/"
        },
        "id": "W_0wIQxDJSr-",
        "outputId": "936b7472-7c19-4fc3-cb42-22c86d853a2e"
      },
      "execution_count": null,
      "outputs": [
        {
          "output_type": "stream",
          "name": "stdout",
          "text": [
            "umayra zulino\n"
          ]
        }
      ]
    },
    {
      "cell_type": "markdown",
      "source": [
        "Latihan soal"
      ],
      "metadata": {
        "id": "zsVw49g5Mb02"
      }
    },
    {
      "cell_type": "code",
      "source": [
        "print ('Bu shinta berkata, \"berikut adalah judul pelajaran hari senin selasa rabu silakan disimpan di laptop masing-masing di folder local disk D:\\\\jadwal pelajaran\\\\kelas XI semester 1\"')\n",
        "print (\"\\njadwal pelajaran mingguan\")\n",
        "print (\"=============================\")\n",
        "print (\"jam\\tsenin\\t\\tselasa\\t\\trabu\")\n",
        "print (\"jam 1\\tmatematika\\tbahasa\\t\\tinformatika\")\n",
        "print (\"jam 2\\tbahasa ingr.\\tsejarah\\t\\tma'rifatullah\")\n",
        "print (\"jam 3\\tinformatika\\tolahraga\\t\\tbiologi\")"
      ],
      "metadata": {
        "colab": {
          "base_uri": "https://localhost:8080/"
        },
        "id": "6GvrMO-pMeUY",
        "outputId": "58aa02eb-6614-4d52-de56-6449affb7627"
      },
      "execution_count": null,
      "outputs": [
        {
          "output_type": "stream",
          "name": "stdout",
          "text": [
            "Bu shinta berkata, \"berikut adalah judul pelajaran hari senin selasa rabu silakan disimpan di laptop masing-masing di folder local disk D:\\jadwal pelajaran\\kelas XI semester 1\"\n",
            "\n",
            "jadwal pelajaran mingguan\n",
            "=============================\n",
            "jam\tsenin\t\tselasa\t\trabu\n",
            "jam 1\tmatematika\tbahasa\t\tinformatika\n",
            "jam 2\tbahasa ingr.\tsejarah\t\tma'rifatullah\n",
            "jam 3\tinformatika\tolahraga\t\tbiologi\n"
          ]
        }
      ]
    },
    {
      "cell_type": "code",
      "source": [
        "nama_siswa_1 = \"Favian\"\n",
        "nama_siswa_2 = \"Naufal\"\n",
        "nama_siswa_3 = \"Humaira\"\n",
        "nama_siswa_4 = \"Favian\"\n",
        "\n",
        "print(nama_siswa_1, nama_siswa_2, nama_siswa_3, nama_siswa_4, sep=\"~\")"
      ],
      "metadata": {
        "colab": {
          "base_uri": "https://localhost:8080/"
        },
        "id": "IBD9avBpE-uX",
        "outputId": "199298cf-9e58-486d-85a8-2021d1aa7cd7"
      },
      "execution_count": null,
      "outputs": [
        {
          "output_type": "stream",
          "name": "stdout",
          "text": [
            "Favian~Naufal~Humaira~Favian\n"
          ]
        }
      ]
    },
    {
      "cell_type": "code",
      "source": [
        "print(nama_siswa_2, end=\"~\")\n",
        "print(nama_siswa_1)\n",
        "print(nama_siswa_3, end=\"~\")\n",
        "print(nama_siswa_1)"
      ],
      "metadata": {
        "colab": {
          "base_uri": "https://localhost:8080/"
        },
        "id": "TbHv_kcKGWxg",
        "outputId": "c3ea3539-13c6-4fa5-d4ee-ba270b6f91f5"
      },
      "execution_count": null,
      "outputs": [
        {
          "output_type": "stream",
          "name": "stdout",
          "text": [
            "Favian~Naufal\n",
            "Humaira~Naufal\n"
          ]
        }
      ]
    }
  ]
}